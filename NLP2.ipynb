{
 "cells": [
  {
   "cell_type": "code",
   "execution_count": 1,
   "id": "c9e2656a-e512-4e7d-adbd-be8741cd8fbd",
   "metadata": {},
   "outputs": [
    {
     "name": "stdout",
     "output_type": "stream",
     "text": [
      "[[['Шла', 'Саша', 'по', 'шоссе', 'и', 'сосала', 'сушку']], [['O', 'B-PERSON', 'O', 'O', 'O', 'O', 'O']]]\n"
     ]
    }
   ],
   "source": [
    "import requests\n",
    "BASE_URL = 'http://127.0.0.1:5005/model'\n",
    "new_product = {\n",
    "    \"x\": [\n",
    "    \"Шла Саша по шоссе и сосала сушку\",\n",
    "  ]\n",
    "}\n",
    "response = requests.post(f\"{BASE_URL}/\", json=new_product)\n",
    "print(response.json())"
   ]
  },
  {
   "cell_type": "code",
   "execution_count": 2,
   "id": "d5731dd3-68ac-4302-b911-9d43bf9f9c37",
   "metadata": {},
   "outputs": [
    {
     "name": "stdout",
     "output_type": "stream",
     "text": [
      "[[['Корабли', 'лавировали', ',', 'лавировали', ',', 'да', 'не', 'вылавировали', '.']], [['O', 'O', 'O', 'O', 'O', 'O', 'O', 'O', 'O']]]\n"
     ]
    }
   ],
   "source": [
    "import requests\n",
    "BASE_URL = 'http://127.0.0.1:5005/model'\n",
    "new_product = {\n",
    "    \"x\": [\n",
    "    \"Корабли лавировали, лавировали, да не вылавировали.\",\n",
    "  ]\n",
    "}\n",
    "response = requests.post(f\"{BASE_URL}/\", json=new_product)\n",
    "print(response.json())"
   ]
  },
  {
   "cell_type": "code",
   "execution_count": 3,
   "id": "e9fb30f4-4147-4b6e-ad25-423b34cf1a03",
   "metadata": {},
   "outputs": [
    {
     "name": "stdout",
     "output_type": "stream",
     "text": [
      "[[['Карл', 'у', 'Клары', 'украл', 'рекламу', ',', 'а', 'Клара', 'у', 'Карла', 'украла', 'бюджет', '.']], [['B-PERSON', 'O', 'B-PERSON', 'O', 'O', 'O', 'O', 'B-PERSON', 'O', 'B-PERSON', 'O', 'O', 'O']]]\n"
     ]
    }
   ],
   "source": [
    "import requests\n",
    "BASE_URL = 'http://127.0.0.1:5005/model'\n",
    "new_product = {\n",
    "    \"x\": [\n",
    "    \"Карл у Клары украл рекламу, а Клара у Карла украла бюджет.\",\n",
    "  ]\n",
    "}\n",
    "response = requests.post(f\"{BASE_URL}/\", json=new_product)\n",
    "print(response.json())"
   ]
  },
  {
   "cell_type": "code",
   "execution_count": 4,
   "id": "b708f4a5-b9bf-4bd9-b3a4-77c0fceeaabe",
   "metadata": {},
   "outputs": [
    {
     "name": "stdout",
     "output_type": "stream",
     "text": [
      "[[['В', 'МФТИ', 'можно', 'добраться', 'на', 'электричке', 'с', 'Савёловского', 'Вокзала', '.']], [['O', 'B-ORG', 'O', 'O', 'O', 'O', 'O', 'B-FAC', 'I-FAC', 'O']]]\n"
     ]
    }
   ],
   "source": [
    " import requests\n",
    "BASE_URL = 'http://127.0.0.1:5005/model'\n",
    "new_product = {\n",
    "    \"x\": [\n",
    "    \"В МФТИ можно добраться на электричке с Савёловского Вокзала.\",\n",
    "  ]\n",
    "}\n",
    "response = requests.post(f\"{BASE_URL}/\", json=new_product)\n",
    "print(response.json())"
   ]
  },
  {
   "cell_type": "code",
   "execution_count": 5,
   "id": "6feca3f9-5cde-478b-9daf-337a4238fed5",
   "metadata": {},
   "outputs": [
    {
     "name": "stdout",
     "output_type": "stream",
     "text": [
      "[[['В', 'юго', '-', 'западной', 'Руси', 'стог', 'жита', 'оценен', 'в', '15', 'рублей']], [['O', 'O', 'O', 'O', 'B-GPE', 'O', 'O', 'O', 'O', 'B-MONEY', 'I-MONEY']]]\n"
     ]
    }
   ],
   "source": [
    " import requests\n",
    "BASE_URL = 'http://127.0.0.1:5005/model'\n",
    "new_product = {\n",
    "    \"x\": [\n",
    "    \"В юго-западной Руси стог жита оценен в 15 рублей\",\n",
    "  ]\n",
    "}\n",
    "response = requests.post(f\"{BASE_URL}/\", json=new_product)\n",
    "print(response.json())"
   ]
  },
  {
   "cell_type": "code",
   "execution_count": null,
   "id": "08f14e69-a91d-4b57-9fe1-5a38b521bc9c",
   "metadata": {},
   "outputs": [],
   "source": []
  }
 ],
 "metadata": {
  "kernelspec": {
   "display_name": "Python 3 (ipykernel)",
   "language": "python",
   "name": "python3"
  },
  "language_info": {
   "codemirror_mode": {
    "name": "ipython",
    "version": 3
   },
   "file_extension": ".py",
   "mimetype": "text/x-python",
   "name": "python",
   "nbconvert_exporter": "python",
   "pygments_lexer": "ipython3",
   "version": "3.7.0"
  }
 },
 "nbformat": 4,
 "nbformat_minor": 5
}
